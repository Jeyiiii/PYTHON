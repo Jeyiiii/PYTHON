{
 "cells": [
  {
   "cell_type": "markdown",
   "id": "94503448",
   "metadata": {},
   "source": [
    "## MATH FORMULAS\n"
   ]
  },
  {
   "cell_type": "code",
   "execution_count": 15,
   "id": "cff9337a",
   "metadata": {},
   "outputs": [
    {
     "name": "stdout",
     "output_type": "stream",
     "text": [
      "Hello World!\n"
     ]
    }
   ],
   "source": [
    "print (\"Hello World!\")"
   ]
  },
  {
   "cell_type": "markdown",
   "id": "afc31b24",
   "metadata": {},
   "source": [
    "### RADIUS"
   ]
  },
  {
   "cell_type": "code",
   "execution_count": 12,
   "id": "4076da75",
   "metadata": {},
   "outputs": [
    {
     "name": "stdout",
     "output_type": "stream",
     "text": [
      "           AREA OF CIRCLE\n",
      "Area of Circle = PiR^2, wherein Pi is equals to 3.14\n",
      "If the radius of a circle is equal to 14, what will be the value of its area?\n",
      "Radius = 615.44\n"
     ]
    }
   ],
   "source": [
    "#value of radius\n",
    "num1= 3.14\n",
    "#initialization of formula: PiR^2\n",
    "num1*=14**2\n",
    "radius= \"Radius = {}\"\n",
    "\n",
    "print (\"           AREA OF CIRCLE\")\n",
    "print (\"Area of Circle = PiR^2, wherein Pi is equals to 3.14\")\n",
    "print (\"If the radius of a circle is equal to 14, what will be the value of its area?\")\n",
    "print (   radius.format(num1))"
   ]
  },
  {
   "cell_type": "markdown",
   "id": "1f7cc3d9",
   "metadata": {},
   "source": [
    "###  AREA OF RECTANGLE"
   ]
  },
  {
   "cell_type": "code",
   "execution_count": 40,
   "id": "a64d3caa",
   "metadata": {},
   "outputs": [
    {
     "name": "stdout",
     "output_type": "stream",
     "text": [
      "          AREA OF RECTANGLE\n",
      "Area of Rectangle = (Length)(Width)\n",
      "Find the area of a rectangle of length 78 mm and width of 26 mm\n",
      "Area = 100 mm\n"
     ]
    }
   ],
   "source": [
    "#value of length\n",
    "l= 20\n",
    "#value of width\n",
    "w= 5\n",
    "#initialization of formula: Length x Width\n",
    "a= l*w\n",
    "area= \"Area = {}\"\n",
    "\n",
    "print (\"          AREA OF RECTANGLE\")\n",
    "print (\"Area of Rectangle = (Length)(Width)\")\n",
    "print (\"Find the area of a rectangle of length 78 mm and width of 26 mm\" )\n",
    "print ( area.format(a),\"mm\")"
   ]
  },
  {
   "cell_type": "markdown",
   "id": "e4bb70d3",
   "metadata": {},
   "source": [
    "###  Arithmetic Mean"
   ]
  },
  {
   "cell_type": "code",
   "execution_count": 13,
   "id": "a99f7c90",
   "metadata": {},
   "outputs": [
    {
     "name": "stdout",
     "output_type": "stream",
     "text": [
      "          ARITHMETIC MEAN (AVERAGE)\n",
      "Mean(Average) = Sum of Values/ Number of Terms\n",
      "Solve for the arithmetic mean of the values: 4,8,9,12,10\n",
      "Arithmetic Mean= 8.6\n"
     ]
    }
   ],
   "source": [
    "\n",
    "a= 4\n",
    "b= 8\n",
    "c= 9\n",
    "d=12\n",
    "e= 10\n",
    "#addition of the values\n",
    "N= a+b+c+d+e\n",
    "#initialization of the formula: Sum of values/ Number of terms\n",
    "M= N/5\n",
    "mean= \"Arithmetic Mean= {}\"\n",
    "\n",
    "print (\"          ARITHMETIC MEAN (AVERAGE)\")\n",
    "print (\"Mean(Average) = Sum of Values/ Number of Terms\")\n",
    "print (\"Solve for the arithmetic mean of the values: 4,8,9,12,10\")\n",
    "print ( mean.format(M))"
   ]
  },
  {
   "cell_type": "markdown",
   "id": "c2885672",
   "metadata": {},
   "source": [
    "### Pythagorean Theorem"
   ]
  },
  {
   "cell_type": "code",
   "execution_count": 14,
   "id": "94fcaca7",
   "metadata": {},
   "outputs": [
    {
     "name": "stdout",
     "output_type": "stream",
     "text": [
      "                    PYTHAGOREAN THEOREM\n",
      "Side of a Right Triangle = c^2 = (a^2)+(b^2)\n",
      "Two hikers leave a cabin at the same time, one heading due south and the other headed due west. After one hour, the hiker walking south has covered 5 miles and the hiker walking west has covered 6 miles. At that moment, what is the shortest distance between the two hikers?\n",
      "Distance= 7.81 miles\n"
     ]
    }
   ],
   "source": [
    "import math\n",
    "\n",
    "num1= 5\n",
    "num2= 6\n",
    "#addition of num1 and num 2\n",
    "a= (num1**2)+(num2**2)\n",
    "#square root the value of a\n",
    "b= math.sqrt (a)\n",
    "\n",
    "\n",
    "print (\"                    PYTHAGOREAN THEOREM\")\n",
    "print (\"Side of a Right Triangle = c^2 = (a^2)+(b^2)\")\n",
    "print (\"Two hikers leave a cabin at the same time, one heading due south and the other headed due west. After one hour, the hiker walking south has covered 5 miles and the hiker walking west has covered 6 miles. At that moment, what is the shortest distance between the two hikers?\")\n",
    "\n",
    "print ( \"Distance= \"  +\"{0:.3}\".format(b),\"miles\")"
   ]
  },
  {
   "cell_type": "code",
   "execution_count": null,
   "id": "b795a437",
   "metadata": {},
   "outputs": [],
   "source": []
  },
  {
   "cell_type": "code",
   "execution_count": null,
   "id": "903ef9ef",
   "metadata": {},
   "outputs": [],
   "source": []
  }
 ],
 "metadata": {
  "kernelspec": {
   "display_name": "Python 3 (ipykernel)",
   "language": "python",
   "name": "python3"
  },
  "language_info": {
   "codemirror_mode": {
    "name": "ipython",
    "version": 3
   },
   "file_extension": ".py",
   "mimetype": "text/x-python",
   "name": "python",
   "nbconvert_exporter": "python",
   "pygments_lexer": "ipython3",
   "version": "3.10.4"
  }
 },
 "nbformat": 4,
 "nbformat_minor": 5
}
