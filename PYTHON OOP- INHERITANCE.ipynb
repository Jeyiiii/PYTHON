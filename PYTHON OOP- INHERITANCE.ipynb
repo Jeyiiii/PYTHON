{
 "cells": [
  {
   "cell_type": "markdown",
   "id": "894e2de4",
   "metadata": {},
   "source": [
    "# PYTHON INHERITANCE "
   ]
  },
  {
   "cell_type": "markdown",
   "id": "d74ea17b",
   "metadata": {},
   "source": [
    "### Creating a Parent Class\n"
   ]
  },
  {
   "cell_type": "code",
   "execution_count": 7,
   "id": "84a6bb5e",
   "metadata": {},
   "outputs": [
    {
     "name": "stdout",
     "output_type": "stream",
     "text": [
      "John Emmanuel Umandal\n"
     ]
    }
   ],
   "source": [
    "class Profile:\n",
    "    def __init__(self, fname, lname):\n",
    "        self.fname = fname\n",
    "        self.lname = lname\n",
    "        \n",
    "    def printname(self):\n",
    "        print (self.fname, self.lname)\n",
    "        \n",
    "x = Profile('John Emmanuel', 'Umandal')\n",
    "x.printname()"
   ]
  },
  {
   "cell_type": "markdown",
   "id": "e7e1ab2f",
   "metadata": {},
   "source": [
    "### Creating a Child Class\n",
    "\n"
   ]
  },
  {
   "cell_type": "code",
   "execution_count": 8,
   "id": "45cbb98b",
   "metadata": {},
   "outputs": [
    {
     "name": "stdout",
     "output_type": "stream",
     "text": [
      "John Emmanuel Umandal\n"
     ]
    }
   ],
   "source": [
    "class Profile:\n",
    "    def __init__(self, fname, lname):\n",
    "        self.fname = fname\n",
    "        self.lname = lname\n",
    "        \n",
    "    def printname(self):\n",
    "        print (self.fname, self.lname)\n",
    "        \n",
    "x = Profile('John Emmanuel', 'Umandal')\n",
    "x.printname()\n",
    "\n",
    "class Student(Profile):\n",
    "    pass"
   ]
  },
  {
   "cell_type": "markdown",
   "id": "3153b4ac",
   "metadata": {},
   "source": [
    "### Using the init function"
   ]
  },
  {
   "cell_type": "code",
   "execution_count": 15,
   "id": "ea18ae56",
   "metadata": {},
   "outputs": [
    {
     "name": "stdout",
     "output_type": "stream",
     "text": [
      "John Emmanuel Umandal\n"
     ]
    }
   ],
   "source": [
    "class Profile:\n",
    "    def __init__(self, fname, lname):\n",
    "        self.fname = fname\n",
    "        self.lname = lname\n",
    "        \n",
    "    def printname(self):\n",
    "        print (self.fname, self.lname)\n",
    "        \n",
    "x = Profile('John Emmanuel', 'Umandal')\n",
    "x.printname()\n",
    "\n",
    "class Student(Profile):\n",
    "    def __init__(self, fname, lname):\n",
    "        Profile.__init__(self, fname, lname)"
   ]
  },
  {
   "cell_type": "markdown",
   "id": "27f5542c",
   "metadata": {},
   "source": [
    "## Types of Inheritance "
   ]
  },
  {
   "cell_type": "markdown",
   "id": "05e56693",
   "metadata": {},
   "source": [
    "### Single Inheritance"
   ]
  },
  {
   "cell_type": "code",
   "execution_count": 19,
   "id": "7a7e3344",
   "metadata": {},
   "outputs": [
    {
     "name": "stdout",
     "output_type": "stream",
     "text": [
      "My nickname is JE\n",
      "My Fullname is John Emmanuel Umandal\n"
     ]
    }
   ],
   "source": [
    "class Nickname:\n",
    "    def name1(self):\n",
    "        print(\"My nickname is JE\")\n",
    "\n",
    "class Fname(Nickname):\n",
    "    def name2(self):\n",
    "        print(\"My Fullname is John Emmanuel Umandal\")\n",
    "        \n",
    "name = Fname()\n",
    "name. name1()\n",
    "name. name2()"
   ]
  },
  {
   "cell_type": "markdown",
   "id": "ef8b9d91",
   "metadata": {},
   "source": [
    "### Multiple Inheritance"
   ]
  },
  {
   "cell_type": "code",
   "execution_count": 1,
   "id": "6ba79059",
   "metadata": {},
   "outputs": [
    {
     "name": "stdout",
     "output_type": "stream",
     "text": [
      "School: Batangas State University- Alangilan\n",
      "Course: Bachelor of Science in Information Technology\n"
     ]
    }
   ],
   "source": [
    "class School:\n",
    "    college_school = \"\"\n",
    "    \n",
    "    def school(self):\n",
    "        print(self.college_school)\n",
    "        \n",
    "class Course:\n",
    "    college_course = \"\"\n",
    "    \n",
    "    def course(self):\n",
    "        print(self.college_course)\n",
    "        \n",
    "class College (School, Course):\n",
    "    def study(self):\n",
    "        print(\"School:\", self.college_school)\n",
    "        print(\"Course:\", self.college_course)\n",
    "        \n",
    "x = College()\n",
    "x.college_school = \"Batangas State University- Alangilan\"\n",
    "x.college_course = \"Bachelor of Science in Information Technology\"\n",
    "x.study()\n",
    "    "
   ]
  },
  {
   "cell_type": "markdown",
   "id": "cc966ccd",
   "metadata": {},
   "source": [
    "### Multilevel Inheritance"
   ]
  },
  {
   "cell_type": "code",
   "execution_count": 3,
   "id": "00d31743",
   "metadata": {},
   "outputs": [
    {
     "name": "stdout",
     "output_type": "stream",
     "text": [
      "Advanced Computer Programming\n",
      "SUBJECT NAME: Advanced Computer Programming\n",
      "LESSON NAME: Python- Object Oriented Programming\n",
      "SUBLESSON NAME: Inheritance\n"
     ]
    }
   ],
   "source": [
    "class Subject:\n",
    "    \n",
    "    def __init__(self, subject_name):\n",
    "        self.subject_name = subject_name\n",
    "        \n",
    "class Lesson(Subject):\n",
    "    def __init__(self, lesson_name, subject_name):\n",
    "        self.lesson_name = lesson_name\n",
    "        Subject.__init__(self, subject_name)\n",
    "        \n",
    "class Sublesson(Lesson):\n",
    "    def __init__(self, sublesson_name, lesson_name, subject_name):\n",
    "        self.sublesson_name = sublesson_name\n",
    "        Lesson.__init__(self, lesson_name, subject_name)\n",
    "    \n",
    "    def show(self):\n",
    "        print('SUBJECT NAME:', self.subject_name)\n",
    "        print('LESSON NAME:', self.lesson_name)\n",
    "        print('SUBLESSON NAME:', self.sublesson_name)\n",
    "\n",
    "x = Sublesson('Inheritance', 'Python- Object Oriented Programming', 'Advanced Computer Programming')\n",
    "print(x.subject_name)\n",
    "x.show()\n",
    "        \n",
    "    "
   ]
  },
  {
   "cell_type": "markdown",
   "id": "033c75e9",
   "metadata": {},
   "source": [
    "### Hierarchical Inheritance"
   ]
  },
  {
   "cell_type": "code",
   "execution_count": 6,
   "id": "6a037fed",
   "metadata": {},
   "outputs": [
    {
     "name": "stdout",
     "output_type": "stream",
     "text": [
      "HIGHSCHOOL\n",
      "SCHOOL NAME: Calamba Institute\n",
      "SCHOOL ADDRESS: Halang, Calamba,Laguna\n",
      "YEAR GRADUATED: SY 2020-2021\n",
      "\n",
      "COLLEGE\n",
      "SCHOOL NAME: Batangas State University\n",
      "SCHOOL ADDRESS: Alangilan, Batangas City, Batangas\n",
      "YEAR GRADUATED: SY 2024-2025\n"
     ]
    }
   ],
   "source": [
    "class School:\n",
    "\n",
    "    def __init__ (self, school, address, year_graduated):\n",
    "        self.school = school\n",
    "        self.address = address\n",
    "        self.year_graduated = year_graduated\n",
    "        \n",
    "class Highschool(School):\n",
    "    def func2(self):\n",
    "        print('HIGHSCHOOL')\n",
    "        print('SCHOOL NAME:', self.school)\n",
    "        print('SCHOOL ADDRESS:', self.address)\n",
    "        print('YEAR GRADUATED:', self.year_graduated)\n",
    "    \n",
    "class College(School):\n",
    "    def func3(self):\n",
    "        print('COLLEGE')\n",
    "        print('SCHOOL NAME:', self.school)\n",
    "        print('SCHOOL ADDRESS:', self.address)\n",
    "        print('YEAR GRADUATED:', self.year_graduated)\n",
    "\n",
    "x = Highschool('Calamba Institute', 'Halang, Calamba,Laguna', 'SY 2020-2021\\n')\n",
    "y = College('Batangas State University', 'Alangilan, Batangas City, Batangas', 'SY 2024-2025')\n",
    "x.func2()\n",
    "y.func3()\n"
   ]
  },
  {
   "cell_type": "markdown",
   "id": "2722676e",
   "metadata": {},
   "source": [
    "### Hybrid Inheritance with super() function"
   ]
  },
  {
   "cell_type": "code",
   "execution_count": 2,
   "id": "bb6e816c",
   "metadata": {},
   "outputs": [
    {
     "name": "stdout",
     "output_type": "stream",
     "text": [
      "MOBILE LEGENDS ASSASINS (LANCELOT AND NATALIA) STATISTICS\n",
      " \n",
      "HERO : Lancelot\n",
      "HP : 2549\n",
      "HP REGEN : 7\n",
      "PHYSICAL ATTACK : 124\n",
      "PHYSICAL DEFENSE : 16\n",
      "ATTACK SPEED : 1.08\n",
      "MANA : 450\n",
      "MANA REGEN : 16\n",
      "MAGIC DEFENSE: 15\n",
      "MOVEMENT SPEED: 260\n",
      "\n",
      "HERO : Natalia\n",
      "HP : 2639\n",
      "HP REGEN : 7\n",
      "PHYSICAL ATTACK : 121\n",
      "PHYSICAL DEFENSE : 18\n",
      "ATTACK SPEED : 1.1\n",
      "MANA : 486\n",
      "MANA REGEN : 16\n",
      "MAGIC DEFENSE: 15\n",
      "MOVEMENT SPEED: 260\n",
      "\n"
     ]
    }
   ],
   "source": [
    "class ml:\n",
    "    print ('MOBILE LEGENDS ASSASINS (LANCELOT AND NATALIA) STATISTICS\\n ')\n",
    "    def __init__(self,hero, hp,hp_regen,phy_atk, phy_def, atk_spd):\n",
    "        self.hero = hero\n",
    "        self.hp = hp\n",
    "        self.hp_regen = hp_regen\n",
    "        self.phy_atk = phy_atk\n",
    "        self.phy_def = phy_def\n",
    "        self.atk_spd= atk_spd\n",
    "        \n",
    "    def show_details(self):\n",
    "        print(f'HERO : {self.hero}')\n",
    "        print(f'HP : {self.hp}')\n",
    "        print(f'HP REGEN : {self.hp_regen}')\n",
    "        print(f'PHYSICAL ATTACK : {self.phy_atk}')  \n",
    "        print(f'PHYSICAL DEFENSE : {self.phy_def}')\n",
    "        print(f'ATTACK SPEED : {self.atk_spd}')    \n",
    "\n",
    "class Lancelot(ml):\n",
    "    \n",
    "    def __init__(self,hero, hp,hp_regen,phy_atk, phy_def, atk_spd,mana, mana_regen, mg_def, mvmt_spd):\n",
    "        super().__init__(hero, hp,hp_regen,phy_atk, phy_def, atk_spd)\n",
    "        self.mana = mana\n",
    "        self.mana_regen = mana_regen\n",
    "        self.mg_def = mg_def\n",
    "        self.mvmt_spd = mvmt_spd\n",
    "\n",
    "    def show_details(self):\n",
    "        super().show_details()\n",
    "        print(f'MANA : {self.mana}')\n",
    "        print(f'MANA REGEN : {self.mana_regen}')\n",
    "        print(f'MAGIC DEFENSE: {self.mg_def}' )\n",
    "        print(f'MOVEMENT SPEED: {self.mvmt_spd}' )\n",
    "        print(\"\")\n",
    "    \n",
    "class Natalia(Lancelot,ml):\n",
    "    def show_details(self):\n",
    "        super().show_details()\n",
    "        \n",
    "x = Lancelot(\"Lancelot\", 2549, 7, 124, 16, 1.08, 450, 16, 15, 260)\n",
    "y = Natalia(\"Natalia\",2639, 7, 121, 18, 1.1, 486, 16, 15, 260)\n",
    "\n",
    "x.show_details()\n",
    "y.show_details()\n",
    "\n"
   ]
  }
 ],
 "metadata": {
  "kernelspec": {
   "display_name": "Python 3 (ipykernel)",
   "language": "python",
   "name": "python3"
  },
  "language_info": {
   "codemirror_mode": {
    "name": "ipython",
    "version": 3
   },
   "file_extension": ".py",
   "mimetype": "text/x-python",
   "name": "python",
   "nbconvert_exporter": "python",
   "pygments_lexer": "ipython3",
   "version": "3.9.12"
  }
 },
 "nbformat": 4,
 "nbformat_minor": 5
}
